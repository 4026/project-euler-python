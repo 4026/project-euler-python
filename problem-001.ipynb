{
 "metadata": {
  "language_info": {
   "codemirror_mode": {
    "name": "ipython",
    "version": 3
   },
   "file_extension": ".py",
   "mimetype": "text/x-python",
   "name": "python",
   "nbconvert_exporter": "python",
   "pygments_lexer": "ipython3",
   "version": "3.8.5-final"
  },
  "orig_nbformat": 2,
  "kernelspec": {
   "name": "python37264bit4462b8b0aa1643c8a0f857b4eb81b1d6",
   "display_name": "Python 3.7.2 64-bit"
  }
 },
 "nbformat": 4,
 "nbformat_minor": 2,
 "cells": [
  {
   "cell_type": "markdown",
   "metadata": {},
   "source": [
    "## Problem 1\n",
    "If we list all the natural numbers below 10 that are multiples of 3 or 5, we get 3, 5, 6 and 9. The sum of these multiples is 23. Find the sum of all the multiples of 3 or 5 below 1000."
   ]
  },
  {
   "cell_type": "code",
   "execution_count": 1,
   "metadata": {
    "tags": []
   },
   "outputs": [
    {
     "output_type": "stream",
     "name": "stdout",
     "text": "233168\n"
    }
   ],
   "source": [
    "def triangular(n):\n",
    "    return int((n * (n+1)) / 2)\n",
    "\n",
    "def sumOfMultiples(multiplier, max):\n",
    "    return triangular(int(max / multiplier)) * multiplier\n",
    "\n",
    "print(sumOfMultiples(3, 999) + sumOfMultiples(5, 999) - sumOfMultiples(15, 999))"
   ]
  }
 ]
}