{
 "metadata": {
  "language_info": {
   "codemirror_mode": {
    "name": "ipython",
    "version": 3
   },
   "file_extension": ".py",
   "mimetype": "text/x-python",
   "name": "python",
   "nbconvert_exporter": "python",
   "pygments_lexer": "ipython3",
   "version": "3.8.5-final"
  },
  "orig_nbformat": 2,
  "kernelspec": {
   "name": "python37264bit4462b8b0aa1643c8a0f857b4eb81b1d6",
   "display_name": "Python 3.7.2 64-bit"
  }
 },
 "nbformat": 4,
 "nbformat_minor": 2,
 "cells": [
  {
   "cell_type": "markdown",
   "metadata": {},
   "source": [
    "## Problem 7\n",
    "\n",
    "By listing the first six prime numbers: 2, 3, 5, 7, 11, and 13, we can see that the 6th prime is 13.\n",
    "\n",
    "What is the 10,001st prime number?"
   ]
  },
  {
   "cell_type": "code",
   "execution_count": 1,
   "metadata": {
    "tags": []
   },
   "outputs": [
    {
     "output_type": "stream",
     "name": "stdout",
     "text": "104743\n"
    }
   ],
   "source": [
    "sieve = []\n",
    "n_primes = 0\n",
    "i = 2\n",
    "while(n_primes < 10001):\n",
    "    is_prime = True\n",
    "    for d in sieve:\n",
    "        if (i % d == 0):\n",
    "            is_prime = False\n",
    "            break\n",
    "    if is_prime:\n",
    "        sieve.append(i)\n",
    "        n_primes += 1\n",
    "    i += 1\n",
    "\n",
    "print(sieve[-1])"
   ]
  }
 ]
}