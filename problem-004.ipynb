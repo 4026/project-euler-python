{
 "metadata": {
  "language_info": {
   "codemirror_mode": {
    "name": "ipython",
    "version": 3
   },
   "file_extension": ".py",
   "mimetype": "text/x-python",
   "name": "python",
   "nbconvert_exporter": "python",
   "pygments_lexer": "ipython3",
   "version": "3.8.5-final"
  },
  "orig_nbformat": 2,
  "kernelspec": {
   "name": "python37264bit4462b8b0aa1643c8a0f857b4eb81b1d6",
   "display_name": "Python 3.7.2 64-bit"
  }
 },
 "nbformat": 4,
 "nbformat_minor": 2,
 "cells": [
  {
   "cell_type": "markdown",
   "metadata": {},
   "source": [
    "## Problem 4\n",
    "\n",
    "A palindromic number reads the same both ways. The largest palindrome made \n",
    "from the product of two 2-digit numbers is $9009 = 91 × 99$.\n",
    "\n",
    "Find the largest palindrome made from the product of two 3-digit numbers."
   ]
  },
  {
   "cell_type": "code",
   "execution_count": 1,
   "metadata": {
    "tags": []
   },
   "outputs": [
    {
     "output_type": "stream",
     "name": "stdout",
     "text": "999 * 91 = 90909\n995 * 583 = 580085\n993 * 913 = 906609\n"
    }
   ],
   "source": [
    "def is_palindromic(x):\n",
    "    string = str(x)\n",
    "    for i in range(0, int(len(string) / 2) + 1):\n",
    "        if string[i] != string[-(i + 1)]:\n",
    "            return False\n",
    "    return True\n",
    "\n",
    "i = 999\n",
    "max_found = 0\n",
    "while (i * 999 > max_found):\n",
    "    j = 999\n",
    "    product = i * j\n",
    "    while(product > max_found):\n",
    "        if (is_palindromic(product)):\n",
    "            print(\"%d * %d = %d\" % (i, j, product))\n",
    "            max_found = product\n",
    "        j -= 1\n",
    "        product = i * j\n",
    "    i -= 1"
   ]
  }
 ]
}