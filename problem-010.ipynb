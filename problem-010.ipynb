{
 "metadata": {
  "language_info": {
   "codemirror_mode": {
    "name": "ipython",
    "version": 3
   },
   "file_extension": ".py",
   "mimetype": "text/x-python",
   "name": "python",
   "nbconvert_exporter": "python",
   "pygments_lexer": "ipython3",
   "version": "3.8.5-final"
  },
  "orig_nbformat": 2,
  "kernelspec": {
   "name": "python37264bit4462b8b0aa1643c8a0f857b4eb81b1d6",
   "display_name": "Python 3.7.2 64-bit"
  }
 },
 "nbformat": 4,
 "nbformat_minor": 2,
 "cells": [
  {
   "cell_type": "markdown",
   "metadata": {},
   "source": [
    "## Problem 10\n",
    "\n",
    "The sum of the primes below 10 is $2 + 3 + 5 + 7 = 17$.\n",
    "\n",
    "Find the sum of all the primes below two million.\n"
   ]
  },
  {
   "cell_type": "code",
   "execution_count": 14,
   "metadata": {
    "tags": []
   },
   "outputs": [
    {
     "output_type": "stream",
     "name": "stdout",
     "text": "Found 148933 primes < 2000000 in 5.46s. Their sum is 142913828922\n"
    }
   ],
   "source": [
    "from time import perf_counter\n",
    "from math import sqrt \n",
    "\n",
    "start_time = perf_counter()\n",
    "sieve = []\n",
    "for i in range(2, 2000000):\n",
    "    is_prime = True\n",
    "    sqrt_i = sqrt(i)\n",
    "    for d in sieve:\n",
    "        if (d > sqrt_i):\n",
    "            break\n",
    "        if (i % d == 0):\n",
    "            is_prime = False\n",
    "            break\n",
    "    if is_prime:\n",
    "        sieve.append(i)\n",
    "\n",
    "elapsed = perf_counter() - start_time\n",
    "print(f\"Found {len(sieve)} primes < 2000000 in {elapsed:.2f}s. Their sum is {sum(sieve)}\")"
   ]
  }
 ]
}