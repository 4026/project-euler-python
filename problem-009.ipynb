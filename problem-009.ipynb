{
 "metadata": {
  "language_info": {
   "codemirror_mode": {
    "name": "ipython",
    "version": 3
   },
   "file_extension": ".py",
   "mimetype": "text/x-python",
   "name": "python",
   "nbconvert_exporter": "python",
   "pygments_lexer": "ipython3",
   "version": "3.8.5-final"
  },
  "orig_nbformat": 2,
  "kernelspec": {
   "name": "python37264bit4462b8b0aa1643c8a0f857b4eb81b1d6",
   "display_name": "Python 3.7.2 64-bit"
  }
 },
 "nbformat": 4,
 "nbformat_minor": 2,
 "cells": [
  {
   "cell_type": "markdown",
   "metadata": {},
   "source": [
    "## Problem 9\n",
    "\n",
    "\n",
    "A Pythagorean triplet is a set of three natural numbers, $a < b < c$, for which,\n",
    "\n",
    "$$a^2 + b^2 = c^2$$\n",
    "\n",
    "For example, $3^2 + 4^2 = 9 + 16 = 25 = 52$.\n",
    "\n",
    "There exists exactly one Pythagorean triplet for which $a + b + c = 1000$.\n",
    "Find the product abc.\n"
   ]
  },
  {
   "cell_type": "code",
   "execution_count": 6,
   "metadata": {
    "tags": []
   },
   "outputs": [
    {
     "output_type": "stream",
     "name": "stdout",
     "text": "200^2 + 375^2 = 425^2\n200 x 375 x 425 = 31875000\n"
    }
   ],
   "source": [
    "from math import floor\n",
    "\n",
    "# 335 <= c < 998, because a + b + c = 1000 and c > b > a > 0.\n",
    "for c in range(335, 998):\n",
    "    # (1000 - c / 2) < b < (1000 - c), for the same reason.\n",
    "    for b in range(floor((1000 - c) / 2 + 1), 1000 - c):\n",
    "        # a can be calculated from chosen values of b and c.\n",
    "        a = 1000 - b - c\n",
    "        if (a**2 + b**2 == c**2):\n",
    "            print(f\"{a}^2 + {b}^2 = {c}^2\")\n",
    "            print(f\"{a} x {b} x {c} = {a*b*c}\")"
   ]
  }
 ]
}