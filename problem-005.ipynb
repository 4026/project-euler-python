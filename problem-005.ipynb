{
 "metadata": {
  "language_info": {
   "codemirror_mode": {
    "name": "ipython",
    "version": 3
   },
   "file_extension": ".py",
   "mimetype": "text/x-python",
   "name": "python",
   "nbconvert_exporter": "python",
   "pygments_lexer": "ipython3",
   "version": "3.8.5-final"
  },
  "orig_nbformat": 2,
  "kernelspec": {
   "name": "python37264bit4462b8b0aa1643c8a0f857b4eb81b1d6",
   "display_name": "Python 3.7.2 64-bit"
  }
 },
 "nbformat": 4,
 "nbformat_minor": 2,
 "cells": [
  {
   "cell_type": "markdown",
   "metadata": {},
   "source": [
    "## Problem 5\n",
    "\n",
    "2520 is the smallest number that can be divided by each of the numbers from 1 to 10 without any remainder.\n",
    "\n",
    "What is the smallest positive number that is evenly divisible by all of the numbers from 1 to 20?"
   ]
  },
  {
   "cell_type": "markdown",
   "metadata": {},
   "source": [
    "This problem is small enough that we can \"cheat\" and just use pen-and-paper maths to identify the prime factors needed to satisfy divisibility by all the numbers from 1 to 20."
   ]
  },
  {
   "cell_type": "code",
   "execution_count": 1,
   "metadata": {
    "tags": []
   },
   "outputs": [
    {
     "output_type": "stream",
     "name": "stdout",
     "text": "232792560\n"
    }
   ],
   "source": [
    "print (\n",
    "         # 1 doesn't matter; any integer will be divisible by 1.\n",
    "    2 *  # 2 is prime, and must therefore be included.\n",
    "    3 *  # 3 is prime.\n",
    "    2 *  # 4 is 2^2, so we need to add another 2 to go with the one we've got.\n",
    "    5 *  # 5 is prime.\n",
    "         # 6 is 2*3, and we have both of those already, so we can omit it.\n",
    "    7 *  # 7 is prime.\n",
    "    2 *  # 8 is 2^3, so we need another 2.\n",
    "    3 *  # 9 is 3^2, so we need anoter 3.\n",
    "         # 10 is 2*5, both of which we have already.\n",
    "    11 * # 11 is prime.\n",
    "         # 12 is 2*2*3, and we have all those.\n",
    "    13 * # 13 is prime.\n",
    "         # 14 is 2*7.\n",
    "         # 15 is 3*5.\n",
    "    2 *  # 16 is 2*4, so we need yet another 2.\n",
    "    17 * # 17 is prime.\n",
    "         # 18 is 2*3*3.\n",
    "    19   # 19 is prime.\n",
    "         # 20 is 2*2*5.\n",
    ")"
   ]
  }
 ]
}