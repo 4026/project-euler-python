{
 "metadata": {
  "language_info": {
   "codemirror_mode": {
    "name": "ipython",
    "version": 3
   },
   "file_extension": ".py",
   "mimetype": "text/x-python",
   "name": "python",
   "nbconvert_exporter": "python",
   "pygments_lexer": "ipython3",
   "version": "3.8.5-final"
  },
  "orig_nbformat": 2,
  "kernelspec": {
   "name": "python37264bit4462b8b0aa1643c8a0f857b4eb81b1d6",
   "display_name": "Python 3.7.2 64-bit"
  }
 },
 "nbformat": 4,
 "nbformat_minor": 2,
 "cells": [
  {
   "cell_type": "markdown",
   "metadata": {},
   "source": [
    "## Problem 3\n",
    "The prime factors of 13195 are 5, 7, 13 and 29.\n",
    "What is the largest prime factor of the number 600851475143?"
   ]
  },
  {
   "cell_type": "code",
   "execution_count": 1,
   "metadata": {
    "tags": []
   },
   "outputs": [
    {
     "output_type": "stream",
     "name": "stdout",
     "text": "6857\n"
    }
   ],
   "source": [
    "def prime_factors(x):\n",
    "    factors = []\n",
    "    i = 2\n",
    "    while (x > 1):\n",
    "        if (x % i == 0):\n",
    "            x /= i\n",
    "            factors.append(i)\n",
    "        else:\n",
    "            i += 1\n",
    "    return factors\n",
    "\n",
    "print(max(prime_factors(600851475143)))"
   ]
  }
 ]
}